{
 "cells": [
  {
   "cell_type": "code",
   "execution_count": 6,
   "metadata": {},
   "outputs": [],
   "source": [
    "import os\n",
    "import pdfplumber as pdfp"
   ]
  },
  {
   "cell_type": "code",
   "execution_count": 4,
   "metadata": {},
   "outputs": [
    {
     "name": "stdout",
     "output_type": "stream",
     "text": [
      "e:\\Estudos\\Python Basico Sigmoidal\\2 - Leitura de PDF\\Codigo\n",
      "E:\\Estudos\\Python Basico Sigmoidal\\2 - Leitura de PDF\\Exercício\n"
     ]
    }
   ],
   "source": [
    "#Troca de diretorio para acesso aos arquivos do relatorio\n",
    "print(os.getcwd())\n",
    "os.chdir(\"E:/Estudos/Python Basico Sigmoidal/2 - Leitura de PDF/Exercício\")\n",
    "print(os.getcwd())"
   ]
  },
  {
   "cell_type": "code",
   "execution_count": 8,
   "metadata": {},
   "outputs": [
    {
     "name": "stdout",
     "output_type": "stream",
     "text": [
      "['20200801.pdf', '20200802.pdf', '20200803.pdf', '20200804.pdf', '20200805.pdf']\n"
     ]
    }
   ],
   "source": [
    "#Criacao de uma lista com os nomes dos arquivos para importacao simultanea deles\n",
    "arquivoNomes = os.listdir()\n",
    "print(arquivoNomes)"
   ]
  },
  {
   "attachments": {},
   "cell_type": "markdown",
   "metadata": {},
   "source": [
    "# Em uma unica linha"
   ]
  },
  {
   "cell_type": "code",
   "execution_count": 52,
   "metadata": {},
   "outputs": [
    {
     "name": "stdout",
     "output_type": "stream",
     "text": [
      "20200801.pdf ---->  1297.0\n",
      "20200802.pdf ---->  537.0\n",
      "20200803.pdf ---->  554.0\n",
      "20200804.pdf ---->  2554.0\n",
      "20200805.pdf ---->  154.0\n",
      "\n",
      "soma dos valores 5096.0\n"
     ]
    }
   ],
   "source": [
    "#Lista de arquivos pdf\n",
    "arquivo = []\n",
    "valor = []\n",
    "for i in range(0, len(arquivoNomes)):\n",
    "    arquivo.append(pdfp.open(arquivoNomes[i]))\n",
    "    arquivo[i] = arquivo[i].pages[0].extract_text()\n",
    "    valor.append(float(arquivo[i].split(\"\\n\")[6].replace(\"\\t\", \"\").split(\"R$\")[1]))\n",
    "    print(arquivoNomes[i], \"----> \", valor[i])\n",
    "\n",
    "print(\"\")\n",
    "print(\"soma dos valores \" + str(sum(valor)))"
   ]
  },
  {
   "attachments": {},
   "cell_type": "markdown",
   "metadata": {},
   "source": [
    "# Separadamente"
   ]
  },
  {
   "cell_type": "code",
   "execution_count": 28,
   "metadata": {},
   "outputs": [],
   "source": [
    "#Lista com os textos da primeira pagina dos pdfs abertos no item anterior\n",
    "text = []\n",
    "for i in range(0, len(arquivo)):\n",
    "    text.append(arquivo[i].pages[0].extract_text())"
   ]
  },
  {
   "cell_type": "code",
   "execution_count": 45,
   "metadata": {},
   "outputs": [],
   "source": [
    "#Lista com o valor da sexta linha da primeira pagina de cada um dos PDFs abertos anteriormente,\n",
    "#separa apenas o valor numerico e o transforma em float\n",
    "valor = []\n",
    "for i in range(0, len(text)):\n",
    "    valor.append(float(text[i].split(\"\\n\")[6].replace(\"\\t\", \"\").split(\"R$\")[1]))"
   ]
  },
  {
   "cell_type": "code",
   "execution_count": 51,
   "metadata": {},
   "outputs": [
    {
     "name": "stdout",
     "output_type": "stream",
     "text": [
      "Lista de valores\n",
      "[1297.0, 537.0, 554.0, 2554.0, 154.0]\n",
      "\n",
      "soma dos valores 5096.0\n"
     ]
    }
   ],
   "source": [
    "print(\"Lista de valores\")\n",
    "print(valor)\n",
    "print(\"\")\n",
    "print(\"soma dos valores \" + str(sum(valor)))"
   ]
  }
 ],
 "metadata": {
  "kernelspec": {
   "display_name": "venv",
   "language": "python",
   "name": "python3"
  },
  "language_info": {
   "codemirror_mode": {
    "name": "ipython",
    "version": 3
   },
   "file_extension": ".py",
   "mimetype": "text/x-python",
   "name": "python",
   "nbconvert_exporter": "python",
   "pygments_lexer": "ipython3",
   "version": "3.10.7"
  },
  "orig_nbformat": 4,
  "vscode": {
   "interpreter": {
    "hash": "bcb10592f80c2f8e6fa932946bd52417a045c531f026cfeb955043611f4ca837"
   }
  }
 },
 "nbformat": 4,
 "nbformat_minor": 2
}
